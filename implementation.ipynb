{
 "cells": [
  {
   "cell_type": "code",
   "execution_count": 1,
   "metadata": {},
   "outputs": [],
   "source": [
    "import numpy as np\n",
    "import torch\n",
    "import torch.nn as nn\n",
    "from torch.autograd import Variable\n",
    "from torch import optim\n",
    "import torch.nn.functional as F\n",
    "\n",
    "use_cuda = torch.cuda.is_available()"
   ]
  },
  {
   "cell_type": "code",
   "execution_count": 2,
   "metadata": {},
   "outputs": [],
   "source": [
    "SOS_token = 1\n",
    "EOS_token = 2\n",
    "\n",
    "# 2000 word vocabulary\n",
    "# 50 dimensional embeddings"
   ]
  },
  {
   "cell_type": "code",
   "execution_count": 176,
   "metadata": {},
   "outputs": [],
   "source": [
    "import matplotlib.pyplot as plt\n",
    "import matplotlib.ticker as ticker\n",
    "import numpy as np\n",
    "\n",
    "def showPlot(points):\n",
    "    plt.figure()\n",
    "    fig, ax = plt.subplots()\n",
    "    # this locator puts ticks at regular intervals\n",
    "    loc = ticker.MultipleLocator(base=0.2)\n",
    "    ax.yaxis.set_major_locator(loc)\n",
    "    plt.plot(points)"
   ]
  },
  {
   "cell_type": "markdown",
   "metadata": {},
   "source": [
    "# Load dataset"
   ]
  },
  {
   "cell_type": "code",
   "execution_count": 3,
   "metadata": {},
   "outputs": [],
   "source": [
    "def load_dataset(language):\n",
    "    with open('data/train.{}.txt'.format(language), 'r') as data:\n",
    "        sentences = [sentence.rstrip('\\n').split(' ') for sentence in data]\n",
    "    with open('data/vocab.{}.txt'.format(language), 'r') as vocab:\n",
    "        vocab = {word.rstrip('\\n'): index for index, word in enumerate(vocab)}\n",
    "    return sentences, vocab\n",
    "\n",
    "en_sentences, en_vocab = load_dataset('en')\n",
    "vi_sentences, vi_vocab = load_dataset('vi')\n",
    "\n",
    "dataset = list(zip(en_sentences, vi_sentences))"
   ]
  },
  {
   "cell_type": "code",
   "execution_count": 215,
   "metadata": {},
   "outputs": [],
   "source": [
    "def load_test_sets(in_language, out_language):\n",
    "    with open('data/test.{}.txt'.format(in_language), 'r') as data:\n",
    "        in_sentences = [sentence.rstrip('\\n').split(' ') for sentence in data]\n",
    "    with open('data/test.{}.txt'.format(out_language), 'r') as data:\n",
    "        out_sentences = [sentence.rstrip('\\n').split(' ') for sentence in data]\n",
    "    return in_sentences, out_sentences\n",
    "\n",
    "en_test_sentences, vi_test_sentences = load_test_sets('en', 'vi')"
   ]
  },
  {
   "cell_type": "markdown",
   "metadata": {},
   "source": [
    "# Process dataset"
   ]
  },
  {
   "cell_type": "code",
   "execution_count": 6,
   "metadata": {},
   "outputs": [],
   "source": [
    "def word_from_dict(word, lan_dict):\n",
    "    if word in lan_dict:\n",
    "        return lan_dict[word]\n",
    "    else:\n",
    "        return lan_dict['<unk>']\n",
    "\n",
    "def process_sentences(sentences, vocab, translate_to=False):\n",
    "    X = list()\n",
    "    Xoh = list()\n",
    "    for index, sentence in enumerate(sentences):\n",
    "        if translate_to:\n",
    "            index_sentence = [SOS_token] + [word_from_dict(word, vocab) for word in sentence] + [EOS_token]\n",
    "        else:\n",
    "            index_sentence = [word_from_dict(word, vocab) for word in sentence] + [EOS_token]\n",
    "        a = np.array(index_sentence)\n",
    "        b = np.zeros((a.size, len(vocab)))\n",
    "        b[np.arange(a.size),a] = 1\n",
    "        X.append(index_sentence)\n",
    "        Xoh.append(b)\n",
    "    X = np.array([np.array(Xi) for Xi in X])\n",
    "    Xoh = np.array([Xohi for Xohi in Xoh])\n",
    "    return X, Xoh"
   ]
  },
  {
   "cell_type": "code",
   "execution_count": 7,
   "metadata": {},
   "outputs": [],
   "source": [
    "X, Xoh = process_sentences(en_sentences, en_vocab)"
   ]
  },
  {
   "cell_type": "code",
   "execution_count": 8,
   "metadata": {},
   "outputs": [],
   "source": [
    "Y, Yoh = process_sentences(vi_sentences, vi_vocab, translate_to=True)"
   ]
  },
  {
   "cell_type": "code",
   "execution_count": 216,
   "metadata": {},
   "outputs": [],
   "source": [
    "X_test, Xoh_test = process_sentences(en_test_sentences, en_vocab)"
   ]
  },
  {
   "cell_type": "code",
   "execution_count": 217,
   "metadata": {},
   "outputs": [],
   "source": [
    "Y_test, Yoh_test = process_sentences(vi_test_sentences, vi_vocab, translate_to=True)"
   ]
  },
  {
   "cell_type": "markdown",
   "metadata": {},
   "source": [
    "# Build model"
   ]
  },
  {
   "cell_type": "code",
   "execution_count": 196,
   "metadata": {},
   "outputs": [],
   "source": [
    "class EncoderRNN(nn.Module):\n",
    "    def __init__(self, input_size, hidden_size):\n",
    "        super(EncoderRNN, self).__init__()\n",
    "        self.hidden_size = hidden_size\n",
    "        self.embedding = nn.Embedding(input_size, hidden_size)\n",
    "        self.gru = nn.GRU(hidden_size, hidden_size, bidirectional=True, batch_first=True)\n",
    "\n",
    "    def forward(self, input, hidden):\n",
    "        embedded = self.embedding(input)\n",
    "        output = embedded\n",
    "        output, hidden = self.gru(output, hidden)\n",
    "        return output, hidden\n",
    "\n",
    "    def initHidden(self):\n",
    "        result = Variable(torch.zeros(2, 1, self.hidden_size))\n",
    "        if use_cuda:\n",
    "            return result.cuda()\n",
    "        else:\n",
    "            return result"
   ]
  },
  {
   "cell_type": "code",
   "execution_count": 197,
   "metadata": {},
   "outputs": [],
   "source": [
    "class Attention(nn.Module):\n",
    "    def __init__(self, hidden_size):\n",
    "        super(Attention, self).__init__()\n",
    "        self.hidden_size = hidden_size\n",
    "        self.attn = nn.Linear(self.hidden_size * 3, 1)\n",
    "\n",
    "    def forward(self, decoder_hidden, encoder_output):\n",
    "        decoder_hidden_expanded = decoder_hidden.expand(1, encoder_output.size()[1], decoder_hidden.size()[2])\n",
    "        input_vector = torch.cat((decoder_hidden_expanded, encoder_output), 2)\n",
    "        output = torch.matmul(input_vector, self.attn.weight.t())\n",
    "        attn_weights = F.softmax(output, dim=1)\n",
    "        permuted_encoder_output = encoder_output.permute(0, 2, 1)\n",
    "        input_context = torch.bmm(permuted_encoder_output, attn_weights).view(1,1,-1)\n",
    "        return input_context"
   ]
  },
  {
   "cell_type": "code",
   "execution_count": 198,
   "metadata": {},
   "outputs": [],
   "source": [
    "class DecoderRNN(nn.Module):\n",
    "    def __init__(self, input_size, hidden_size):\n",
    "        super(DecoderRNN, self).__init__()\n",
    "        self.hidden_size = hidden_size\n",
    "        self.embedding = nn.Embedding(input_size, self.hidden_size)\n",
    "        self.gru = nn.GRU(self.hidden_size * 3, self.hidden_size, batch_first=True)\n",
    "        self.out = nn.Linear(self.hidden_size, input_size)\n",
    "\n",
    "    def forward(self, input_context, hidden, word):\n",
    "        embedded = self.embedding(word)\n",
    "        output = torch.cat((embedded, input_context), 2)\n",
    "        output, hidden = self.gru(output, hidden)\n",
    "        output = self.out(output)\n",
    "        output = F.log_softmax(output, dim=2)\n",
    "        return output, hidden"
   ]
  },
  {
   "cell_type": "code",
   "execution_count": 210,
   "metadata": {},
   "outputs": [],
   "source": [
    "# Define global params for training\n",
    "LEARNING_RATE = 0.01\n",
    "EPOCHS = 30"
   ]
  },
  {
   "cell_type": "code",
   "execution_count": 211,
   "metadata": {},
   "outputs": [],
   "source": [
    "def train_step(in_sentence, out_sentence, model_sections, optimizing_params):\n",
    "    # pass input sentence through encoder\n",
    "    encoder_hidden = encoder.initHidden()\n",
    "    input = Variable(torch.LongTensor(in_sentence).view(1,-1))\n",
    "    input = input.cuda() if use_cuda else input\n",
    "    encoder_output, encoder_hidden = model_sections['encoder'](input, encoder_hidden)\n",
    "    \n",
    "    # initialize decoder hidden layer with final encoder hidden layer\n",
    "    decoder_hidden = encoder_hidden[0].clone().view(1,1,-1)\n",
    "    \n",
    "    # initialize loss to 0\n",
    "    loss = 0 \n",
    "    \n",
    "    # pass encoder output through attention + decoder\n",
    "    for word_index in out_sentence:\n",
    "        decoder_input = Variable(torch.LongTensor([[int(word_index)]]))\n",
    "        decoder_input = decoder_input.cuda() if use_cuda else decoder_input\n",
    "        input_context = model_sections['attention'](decoder_hidden, encoder_output) \n",
    "        decoder_output, decoder_hidden = model_sections['decoder'](input_context, decoder_hidden, decoder_input)\n",
    "        expected = Variable(torch.LongTensor([int(word_index)]))\n",
    "        expected = expected.cuda() if use_cuda else expected\n",
    "        loss += optimizing_params['loss_function'](decoder_output.view(1,-1), expected)\n",
    "    loss.backward()\n",
    "    optimizing_params['enc_optimizer'].step()\n",
    "    optimizing_params['att_optimizer'].step()\n",
    "    optimizing_params['dec_optimizer'].step()\n",
    "    \n",
    "    return loss.data[0] / len(out_sentence)"
   ]
  },
  {
   "cell_type": "code",
   "execution_count": 212,
   "metadata": {},
   "outputs": [],
   "source": [
    "def train(in_sentences, out_sentences, model_sections, optimizing_params):\n",
    "    losses = list()\n",
    "    current_loss = 0\n",
    "    for epoch_num in range(EPOCHS):\n",
    "        for in_sentence, out_sentence in zip(in_sentences[:30], out_sentences[:30]):\n",
    "            current_loss += train_step(in_sentence, out_sentence, model_sections, optimizing_params)\n",
    "        print('Epoch: {} | Loss: {}'.format(epoch_num + 1, current_loss))\n",
    "        losses.append(current_loss)\n",
    "        current_loss = 0\n",
    "    return losses"
   ]
  },
  {
   "cell_type": "code",
   "execution_count": 213,
   "metadata": {},
   "outputs": [],
   "source": [
    "# Instantiate model and optimizer\n",
    "encoder = EncoderRNN(len(en_vocab), 100)\n",
    "attention = Attention(100)\n",
    "decoder = DecoderRNN(len(vi_vocab), 100)\n",
    "criterion = nn.NLLLoss()\n",
    "encoder_optimizer = optim.SGD(encoder.parameters(), lr=LEARNING_RATE)\n",
    "attention_optimizer = optim.SGD(attention.parameters(), lr=LEARNING_RATE)\n",
    "decoder_optimizer = optim.SGD(decoder.parameters(), lr=LEARNING_RATE)\n",
    "\n",
    "# save model and optimizer params to dict\n",
    "model_sections = {'encoder': encoder, \n",
    "                  'attention': attention, \n",
    "                  'decoder': decoder,\n",
    "                 }\n",
    "\n",
    "optimizing_params = {'loss_function': criterion, \n",
    "                     'enc_optimizer': encoder_optimizer,\n",
    "                     'att_optimizer': attention_optimizer,\n",
    "                     'dec_optimizer': decoder_optimizer,\n",
    "                    }"
   ]
  },
  {
   "cell_type": "code",
   "execution_count": 214,
   "metadata": {},
   "outputs": [
    {
     "name": "stdout",
     "output_type": "stream",
     "text": [
      "Epoch: 1 | Loss: 192.2237575328946\n",
      "Epoch: 2 | Loss: 109.65815759343785\n",
      "Epoch: 3 | Loss: 255.93483719010203\n",
      "Epoch: 4 | Loss: 573.7265294935715\n",
      "Epoch: 5 | Loss: 1023.0489503364831\n",
      "Epoch: 6 | Loss: 1159.9805471117816\n",
      "Epoch: 7 | Loss: 1144.9182745916385\n",
      "Epoch: 8 | Loss: 1045.813236705913\n",
      "Epoch: 9 | Loss: 817.5437194021795\n",
      "Epoch: 10 | Loss: 638.8699334556007\n",
      "Epoch: 11 | Loss: 594.9702977528832\n",
      "Epoch: 12 | Loss: 471.60360606809814\n",
      "Epoch: 13 | Loss: 328.63357963127095\n",
      "Epoch: 14 | Loss: 257.50031677433867\n",
      "Epoch: 15 | Loss: 152.35547300270804\n",
      "Epoch: 16 | Loss: 87.00339600361606\n",
      "Epoch: 17 | Loss: 95.36094167671493\n",
      "Epoch: 18 | Loss: 57.62134524842298\n",
      "Epoch: 19 | Loss: 37.042083944381375\n",
      "Epoch: 20 | Loss: 31.702114102346304\n",
      "Epoch: 21 | Loss: 72.26683934254542\n",
      "Epoch: 22 | Loss: 47.800909760497476\n",
      "Epoch: 23 | Loss: 40.842412355926086\n",
      "Epoch: 24 | Loss: 186.15513121095313\n",
      "Epoch: 25 | Loss: 174.78181063586388\n",
      "Epoch: 26 | Loss: 126.12793209924305\n",
      "Epoch: 27 | Loss: 87.46511186845575\n",
      "Epoch: 28 | Loss: 94.68946654773404\n",
      "Epoch: 29 | Loss: 70.91909911108328\n",
      "Epoch: 30 | Loss: 50.79962294253651\n"
     ]
    }
   ],
   "source": [
    "losses = train(X, Y, model_sections, optimizing_params)"
   ]
  },
  {
   "cell_type": "code",
   "execution_count": 204,
   "metadata": {},
   "outputs": [],
   "source": [
    "showPlot(losses)"
   ]
  },
  {
   "cell_type": "code",
   "execution_count": null,
   "metadata": {},
   "outputs": [],
   "source": []
  },
  {
   "cell_type": "code",
   "execution_count": null,
   "metadata": {},
   "outputs": [],
   "source": []
  }
 ],
 "metadata": {
  "kernelspec": {
   "display_name": "Python 3",
   "language": "python",
   "name": "python3"
  },
  "language_info": {
   "codemirror_mode": {
    "name": "ipython",
    "version": 3
   },
   "file_extension": ".py",
   "mimetype": "text/x-python",
   "name": "python",
   "nbconvert_exporter": "python",
   "pygments_lexer": "ipython3",
   "version": "3.6.4"
  }
 },
 "nbformat": 4,
 "nbformat_minor": 2
}
