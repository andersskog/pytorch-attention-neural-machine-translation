{
 "cells": [
  {
   "cell_type": "code",
   "execution_count": 1,
   "metadata": {},
   "outputs": [],
   "source": [
    "import numpy as np\n",
    "import torch\n",
    "import torch.nn as nn\n",
    "from torch.autograd import Variable\n",
    "from torch import optim\n",
    "import torch.nn.functional as F\n",
    "\n",
    "use_cuda = torch.cuda.is_available()"
   ]
  },
  {
   "cell_type": "code",
   "execution_count": 21,
   "metadata": {},
   "outputs": [],
   "source": [
    "# Define global params for training\n",
    "LEARNING_RATE = 0.01\n",
    "EPOCHS = 50\n",
    "EMBEDDING_SIZE = 50\n",
    "DEBUG_LENGTH = 10\n",
    "HIDDEN_SIZE = 100\n",
    "UNIQUE_WORDS = 2000\n",
    "\n",
    "DEBUG = True"
   ]
  },
  {
   "cell_type": "code",
   "execution_count": 3,
   "metadata": {},
   "outputs": [],
   "source": [
    "SOS_token = 1\n",
    "EOS_token = 2"
   ]
  },
  {
   "cell_type": "code",
   "execution_count": 39,
   "metadata": {},
   "outputs": [],
   "source": [
    "import matplotlib.pyplot as plt\n",
    "import matplotlib.ticker as ticker\n",
    "import numpy as np\n",
    "\n",
    "def showPlot(points, points2):\n",
    "#     plt.figure()\n",
    "#     fig, ax = plt.subplots()\n",
    "#     # this locator puts ticks at regular intervals\n",
    "#     loc = ticker.MultipleLocator(base=1)\n",
    "#     ax.yaxis.set_major_locator(loc)\n",
    "    plt.plot(points)\n",
    "    plt.plot(points2)\n",
    "    plt.show()"
   ]
  },
  {
   "cell_type": "markdown",
   "metadata": {},
   "source": [
    "# Load dataset"
   ]
  },
  {
   "cell_type": "code",
   "execution_count": 5,
   "metadata": {},
   "outputs": [],
   "source": [
    "def load_dataset(language):\n",
    "    with open('data/train.{}.txt'.format(language), 'r') as data:\n",
    "        sentences = [sentence.rstrip('\\n').split(' ') for sentence in data]\n",
    "    with open('data/vocab.{}.txt'.format(language), 'r') as vocab:\n",
    "        vocab = {word.rstrip('\\n'): index for index, word in enumerate(vocab)}\n",
    "    return sentences, vocab\n",
    "\n",
    "en_sentences, en_vocab = load_dataset('en')\n",
    "vi_sentences, vi_vocab = load_dataset('vi')\n",
    "\n",
    "dataset = list(zip(en_sentences, vi_sentences))"
   ]
  },
  {
   "cell_type": "code",
   "execution_count": 6,
   "metadata": {},
   "outputs": [],
   "source": [
    "def create_vocab(sentences):\n",
    "    language_dict = dict()\n",
    "    for sentence in sentences:\n",
    "        for word in sentence:\n",
    "            if word in language_dict:\n",
    "                language_dict[word] += 1\n",
    "            else:\n",
    "                language_dict[word] = 1\n",
    "    word_frequency = [(word, language_dict[word]) for word in language_dict]\n",
    "    sorted_word_frequency = sorted(word_frequency, key=lambda x: x[1], reverse=True)\n",
    "    if len(sorted_word_frequency) > UNIQUE_WORDS - 3:\n",
    "        sorted_word_frequency = sorted_word_frequency[:UNIQUE_WORDS - 3]\n",
    "    new_dict = {'<unk>': 0, '<s>': 1, '</s>': 2}\n",
    "    counter = 3\n",
    "    for word_tuple in sorted_word_frequency:\n",
    "        if word_tuple[0] not in new_dict:\n",
    "            new_dict[word_tuple[0]] = counter\n",
    "            counter += 1\n",
    "    return new_dict\n",
    "\n",
    "en_vocab = create_vocab(en_sentences)\n",
    "vi_vocab = create_vocab(vi_sentences)"
   ]
  },
  {
   "cell_type": "code",
   "execution_count": 7,
   "metadata": {},
   "outputs": [],
   "source": [
    "def load_test_sets(in_language, out_language):\n",
    "    with open('data/test.{}.txt'.format(in_language), 'r') as data:\n",
    "        in_sentences = [sentence.rstrip('\\n').split(' ') for sentence in data]\n",
    "    with open('data/test.{}.txt'.format(out_language), 'r') as data:\n",
    "        out_sentences = [sentence.rstrip('\\n').split(' ') for sentence in data]\n",
    "    return in_sentences, out_sentences\n",
    "\n",
    "en_test_sentences, vi_test_sentences = load_test_sets('en', 'vi')"
   ]
  },
  {
   "cell_type": "markdown",
   "metadata": {},
   "source": [
    "# Process dataset"
   ]
  },
  {
   "cell_type": "code",
   "execution_count": 8,
   "metadata": {},
   "outputs": [],
   "source": [
    "def word_from_dict(word, lan_dict):\n",
    "    if word in lan_dict:\n",
    "        return lan_dict[word]\n",
    "    else:\n",
    "        return lan_dict['<unk>']\n",
    "\n",
    "def process_sentences(sentences, vocab, translate_to=False):\n",
    "    X = list()\n",
    "    Xoh = list()\n",
    "    for index, sentence in enumerate(sentences):\n",
    "        if translate_to:\n",
    "            index_sentence = [SOS_token] + [word_from_dict(word, vocab) for word in sentence] + [EOS_token]\n",
    "        else:\n",
    "            index_sentence = [word_from_dict(word, vocab) for word in sentence] + [EOS_token]\n",
    "        a = np.array(index_sentence)\n",
    "        b = np.zeros((a.size, len(vocab)))\n",
    "        b[np.arange(a.size),a] = 1\n",
    "        X.append(index_sentence)\n",
    "        Xoh.append(b)\n",
    "    X = np.array([np.array(Xi) for Xi in X])\n",
    "    Xoh = np.array([Xohi for Xohi in Xoh])\n",
    "    return X, Xoh"
   ]
  },
  {
   "cell_type": "code",
   "execution_count": 9,
   "metadata": {},
   "outputs": [],
   "source": [
    "X, Xoh = process_sentences(en_sentences, en_vocab)"
   ]
  },
  {
   "cell_type": "code",
   "execution_count": 10,
   "metadata": {},
   "outputs": [],
   "source": [
    "Y, Yoh = process_sentences(vi_sentences, vi_vocab, translate_to=True)"
   ]
  },
  {
   "cell_type": "code",
   "execution_count": 11,
   "metadata": {},
   "outputs": [],
   "source": [
    "X_test, Xoh_test = process_sentences(en_test_sentences, en_vocab)"
   ]
  },
  {
   "cell_type": "code",
   "execution_count": 12,
   "metadata": {},
   "outputs": [],
   "source": [
    "Y_test, Yoh_test = process_sentences(vi_test_sentences, vi_vocab, translate_to=True)"
   ]
  },
  {
   "cell_type": "markdown",
   "metadata": {},
   "source": [
    "# Build model"
   ]
  },
  {
   "cell_type": "code",
   "execution_count": 13,
   "metadata": {},
   "outputs": [],
   "source": [
    "class EncoderRNN(nn.Module):\n",
    "    def __init__(self, input_size, hidden_size):\n",
    "        super(EncoderRNN, self).__init__()\n",
    "        self.hidden_size = hidden_size\n",
    "        self.embedding = nn.Embedding(input_size, EMBEDDING_SIZE)\n",
    "        self.gru = nn.GRU(EMBEDDING_SIZE, hidden_size, bidirectional=True, batch_first=True)\n",
    "\n",
    "    def forward(self, input, hidden):\n",
    "        embedded = self.embedding(input)\n",
    "        output = embedded\n",
    "        output, hidden = self.gru(output, hidden)\n",
    "        return output, hidden\n",
    "\n",
    "    def initHidden(self):\n",
    "        result = Variable(torch.zeros(2, 1, self.hidden_size))\n",
    "        if use_cuda:\n",
    "            return result.cuda()\n",
    "        else:\n",
    "            return result"
   ]
  },
  {
   "cell_type": "code",
   "execution_count": 14,
   "metadata": {},
   "outputs": [],
   "source": [
    "class Attention(nn.Module):\n",
    "    def __init__(self, hidden_size):\n",
    "        super(Attention, self).__init__()\n",
    "        self.hidden_size = hidden_size\n",
    "        self.attn = nn.Linear(self.hidden_size * 3, 1)\n",
    "\n",
    "    def forward(self, decoder_hidden, encoder_output):\n",
    "        decoder_hidden_expanded = decoder_hidden.expand(1, encoder_output.size()[1], decoder_hidden.size()[2])\n",
    "        input_vector = torch.cat((decoder_hidden_expanded, encoder_output), 2)\n",
    "        output = torch.matmul(input_vector, self.attn.weight.t())\n",
    "        attn_weights = F.softmax(output, dim=1)\n",
    "        permuted_encoder_output = encoder_output.permute(0, 2, 1)\n",
    "        input_context = torch.bmm(permuted_encoder_output, attn_weights).view(1,1,-1)\n",
    "        return input_context"
   ]
  },
  {
   "cell_type": "code",
   "execution_count": 15,
   "metadata": {},
   "outputs": [],
   "source": [
    "class DecoderRNN(nn.Module):\n",
    "    def __init__(self, input_size, hidden_size):\n",
    "        super(DecoderRNN, self).__init__()\n",
    "        self.hidden_size = hidden_size\n",
    "        self.embedding = nn.Embedding(input_size, EMBEDDING_SIZE)\n",
    "        self.gru = nn.GRU(self.hidden_size * 2 + EMBEDDING_SIZE, self.hidden_size, batch_first=True)\n",
    "        self.out = nn.Linear(self.hidden_size, input_size)\n",
    "\n",
    "    def forward(self, input_context, hidden, word):\n",
    "        embedded = self.embedding(word)\n",
    "        output = torch.cat((embedded, input_context), 2)\n",
    "        output, hidden = self.gru(output, hidden)\n",
    "        output = self.out(output)\n",
    "        output = F.log_softmax(output, dim=2)\n",
    "        return output, hidden"
   ]
  },
  {
   "cell_type": "code",
   "execution_count": 16,
   "metadata": {},
   "outputs": [],
   "source": [
    "def train_step(in_sentence, out_sentence, model_sections, optimizing_params):\n",
    "    # pass input sentence through encoder\n",
    "    encoder_hidden = encoder.initHidden()\n",
    "    input = Variable(torch.LongTensor(in_sentence).view(1,-1))\n",
    "    input = input.cuda() if use_cuda else input\n",
    "    encoder_output, encoder_hidden = model_sections['encoder'](input, encoder_hidden)\n",
    "    \n",
    "    # initialize decoder hidden layer with final encoder hidden layer\n",
    "    decoder_hidden = encoder_hidden[0].clone().view(1,1,-1)\n",
    "    \n",
    "    # initialize loss to 0\n",
    "    loss = 0 \n",
    "    \n",
    "    # pass encoder output through attention + decoder\n",
    "    for word_index in out_sentence:\n",
    "        decoder_input = Variable(torch.LongTensor([[int(word_index)]]))\n",
    "        decoder_input = decoder_input.cuda() if use_cuda else decoder_input\n",
    "        input_context = model_sections['attention'](decoder_hidden, encoder_output) \n",
    "        decoder_output, decoder_hidden = model_sections['decoder'](input_context, decoder_hidden, decoder_input)\n",
    "        loss += optimizing_params['loss_function'](decoder_output.view(1,-1), decoder_input.view(-1))\n",
    "    loss.backward()\n",
    "    optimizing_params['enc_optimizer'].step()\n",
    "    optimizing_params['att_optimizer'].step()\n",
    "    optimizing_params['dec_optimizer'].step()\n",
    "    \n",
    "    return loss.data[0] / len(out_sentence)"
   ]
  },
  {
   "cell_type": "code",
   "execution_count": 17,
   "metadata": {},
   "outputs": [],
   "source": [
    "def test_step(in_sentence, out_sentence, model_sections, optimizing_params):\n",
    "    # pass input sentence through encoder\n",
    "    encoder_hidden = encoder.initHidden()\n",
    "    input = Variable(torch.LongTensor(in_sentence).view(1,-1))\n",
    "    input = input.cuda() if use_cuda else input\n",
    "    encoder_output, encoder_hidden = model_sections['encoder'](input, encoder_hidden)\n",
    "    \n",
    "    # initialize decoder hidden layer with final encoder hidden layer\n",
    "    decoder_hidden = encoder_hidden[0].clone().view(1,1,-1)\n",
    "    \n",
    "    # initialize loss to 0\n",
    "    loss = 0 \n",
    "    \n",
    "    # pass encoder output through attention + decoder\n",
    "    for word_index in out_sentence:\n",
    "        decoder_input = Variable(torch.LongTensor([[int(word_index)]]))\n",
    "        decoder_input = decoder_input.cuda() if use_cuda else decoder_input\n",
    "        input_context = model_sections['attention'](decoder_hidden, encoder_output) \n",
    "        decoder_output, decoder_hidden = model_sections['decoder'](input_context, decoder_hidden, decoder_input)\n",
    "        loss += optimizing_params['loss_function'](decoder_output.view(1,-1), decoder_input.view(-1))\n",
    "    return loss.data[0] / len(out_sentence)"
   ]
  },
  {
   "cell_type": "code",
   "execution_count": 34,
   "metadata": {},
   "outputs": [],
   "source": [
    "def train(in_sentences, out_sentences, in_test_sentences, out_test_sentences, model_sections, optimizing_params):\n",
    "    training_losses = list()\n",
    "    testing_losses = list()\n",
    "    current_loss = 0\n",
    "    testing_loss = 0\n",
    "    for epoch_num in range(EPOCHS):\n",
    "        if DEBUG:\n",
    "            train_set_length = DEBUG_LENGTH\n",
    "            test_set_length = DEBUG_LENGTH\n",
    "        else:\n",
    "            train_set_length = len(in_sentences)\n",
    "            test_set_length = len(in_test_sentences)\n",
    "        for in_sentence, out_sentence in zip(in_sentences[:train_set_length], out_sentences[:train_set_length]):\n",
    "            current_loss += train_step(in_sentence, out_sentence, model_sections, optimizing_params)\n",
    "        for in_test_sentence, out_test_sentence in zip(in_test_sentences[:test_set_length], out_test_sentences[:test_set_length]):\n",
    "            testing_loss += test_step(in_test_sentence, out_test_sentence, model_sections, optimizing_params)\n",
    "               \n",
    "        print('Epoch: {} | TRAINING Loss: {} | TESTING Loss: {}'.format(epoch_num + 1, current_loss / train_set_length, testing_loss / test_set_length))\n",
    "        training_losses.append(current_loss / train_set_length)\n",
    "        testing_losses.append(testing_loss  / test_set_length)\n",
    "        current_loss = 0\n",
    "        testing_loss = 0\n",
    "    return training_losses, testing_losses"
   ]
  },
  {
   "cell_type": "code",
   "execution_count": 35,
   "metadata": {},
   "outputs": [],
   "source": [
    "# Instantiate model and optimizer\n",
    "encoder = EncoderRNN(len(en_vocab), HIDDEN_SIZE)\n",
    "attention = Attention(HIDDEN_SIZE)\n",
    "decoder = DecoderRNN(len(vi_vocab), HIDDEN_SIZE)\n",
    "criterion = nn.NLLLoss()\n",
    "encoder_optimizer = optim.SGD(encoder.parameters(), lr=LEARNING_RATE)\n",
    "attention_optimizer = optim.SGD(attention.parameters(), lr=LEARNING_RATE)\n",
    "decoder_optimizer = optim.SGD(decoder.parameters(), lr=LEARNING_RATE)\n",
    "\n",
    "# save model and optimizer params to dict\n",
    "model_sections = {'encoder': encoder, \n",
    "                  'attention': attention, \n",
    "                  'decoder': decoder,\n",
    "                 }\n",
    "\n",
    "optimizing_params = {'loss_function': criterion, \n",
    "                     'enc_optimizer': encoder_optimizer,\n",
    "                     'att_optimizer': attention_optimizer,\n",
    "                     'dec_optimizer': decoder_optimizer,\n",
    "                    }"
   ]
  },
  {
   "cell_type": "code",
   "execution_count": 36,
   "metadata": {},
   "outputs": [
    {
     "name": "stdout",
     "output_type": "stream",
     "text": [
      "Epoch: 1 | TRAINING Loss: 7.041870692253542 | TESTING Loss: 6.0529797361111495\n",
      "Epoch: 2 | TRAINING Loss: 3.769784379490205 | TESTING Loss: 5.611906244803806\n",
      "Epoch: 3 | TRAINING Loss: 2.1109667264369496 | TESTING Loss: 5.562807493304687\n",
      "Epoch: 4 | TRAINING Loss: 0.9091241586921562 | TESTING Loss: 7.443461373722774\n",
      "Epoch: 5 | TRAINING Loss: 0.9923537748990379 | TESTING Loss: 10.015064811790586\n",
      "Epoch: 6 | TRAINING Loss: 3.2872420182343687 | TESTING Loss: 13.634627021564672\n",
      "Epoch: 7 | TRAINING Loss: 3.1819766628423145 | TESTING Loss: 12.718148345347123\n",
      "Epoch: 8 | TRAINING Loss: 5.025639607048335 | TESTING Loss: 19.91256579191326\n",
      "Epoch: 9 | TRAINING Loss: 13.592446564740015 | TESTING Loss: 26.67644702985819\n",
      "Epoch: 10 | TRAINING Loss: 18.285023211038602 | TESTING Loss: 35.08686170985578\n",
      "Epoch: 11 | TRAINING Loss: 19.32296846974502 | TESTING Loss: 39.76358575306772\n",
      "Epoch: 12 | TRAINING Loss: 16.727240959773233 | TESTING Loss: 44.26124536231953\n",
      "Epoch: 13 | TRAINING Loss: 14.874220794166362 | TESTING Loss: 48.00416150518286\n",
      "Epoch: 14 | TRAINING Loss: 24.214880384512973 | TESTING Loss: 56.28806338011183\n",
      "Epoch: 15 | TRAINING Loss: 25.467423513123325 | TESTING Loss: 64.53207323572782\n",
      "Epoch: 16 | TRAINING Loss: 36.83280454195463 | TESTING Loss: 74.78810433501366\n",
      "Epoch: 17 | TRAINING Loss: 44.93361253317122 | TESTING Loss: 80.23486943937337\n",
      "Epoch: 18 | TRAINING Loss: 45.022676271068796 | TESTING Loss: 86.38802732864283\n",
      "Epoch: 19 | TRAINING Loss: 49.57756339597852 | TESTING Loss: 94.53837842828523\n",
      "Epoch: 20 | TRAINING Loss: 47.84496224678372 | TESTING Loss: 103.9256508551052\n",
      "Epoch: 21 | TRAINING Loss: 54.51336454750985 | TESTING Loss: 131.1295772338584\n",
      "Epoch: 22 | TRAINING Loss: 71.62152006944665 | TESTING Loss: 153.60187532365325\n",
      "Epoch: 23 | TRAINING Loss: 71.87827781234515 | TESTING Loss: 160.48456458577766\n",
      "Epoch: 24 | TRAINING Loss: 60.625278305486155 | TESTING Loss: 160.46791934421668\n",
      "Epoch: 25 | TRAINING Loss: 50.67528884609701 | TESTING Loss: 183.11840079591883\n",
      "Epoch: 26 | TRAINING Loss: 51.58851312336169 | TESTING Loss: 197.83862850366899\n",
      "Epoch: 27 | TRAINING Loss: 51.66315612744921 | TESTING Loss: 201.82412000100786\n",
      "Epoch: 28 | TRAINING Loss: 40.63894910876729 | TESTING Loss: 214.11206250570754\n",
      "Epoch: 29 | TRAINING Loss: 32.94254237389061 | TESTING Loss: 221.75516664729753\n",
      "Epoch: 30 | TRAINING Loss: 24.475015940440972 | TESTING Loss: 235.65648934885226\n",
      "Epoch: 31 | TRAINING Loss: 26.12447961331057 | TESTING Loss: 244.42874056856576\n",
      "Epoch: 32 | TRAINING Loss: 21.51139298741473 | TESTING Loss: 253.16452161257195\n",
      "Epoch: 33 | TRAINING Loss: 28.22844936643695 | TESTING Loss: 262.5472240594037\n",
      "Epoch: 34 | TRAINING Loss: 25.92606382029366 | TESTING Loss: 276.72977799997875\n",
      "Epoch: 35 | TRAINING Loss: 27.515307093940766 | TESTING Loss: 300.14123340036593\n",
      "Epoch: 36 | TRAINING Loss: 22.47842174827382 | TESTING Loss: 308.9583746422981\n",
      "Epoch: 37 | TRAINING Loss: 20.40433813915977 | TESTING Loss: 320.9407160428877\n",
      "Epoch: 38 | TRAINING Loss: 16.044898703151162 | TESTING Loss: 334.4469349587785\n",
      "Epoch: 39 | TRAINING Loss: 9.829179405708075 | TESTING Loss: 349.78904484617294\n",
      "Epoch: 40 | TRAINING Loss: 8.846588973541381 | TESTING Loss: 361.9230601374094\n",
      "Epoch: 41 | TRAINING Loss: 7.526565522474047 | TESTING Loss: 371.7681741702369\n",
      "Epoch: 42 | TRAINING Loss: 5.414186127008857 | TESTING Loss: 391.80593825873456\n",
      "Epoch: 43 | TRAINING Loss: 9.081413547912268 | TESTING Loss: 408.7852598907602\n",
      "Epoch: 44 | TRAINING Loss: 13.452206331356871 | TESTING Loss: 428.92830886906887\n",
      "Epoch: 45 | TRAINING Loss: 9.546368982404726 | TESTING Loss: 451.7169964607384\n",
      "Epoch: 46 | TRAINING Loss: 12.487702100601917 | TESTING Loss: 465.2421279746799\n",
      "Epoch: 47 | TRAINING Loss: 12.524614531392189 | TESTING Loss: 477.91720137653937\n",
      "Epoch: 48 | TRAINING Loss: 8.496247906013455 | TESTING Loss: 497.5810169130229\n",
      "Epoch: 49 | TRAINING Loss: 6.600006337733726 | TESTING Loss: 510.89324154017356\n",
      "Epoch: 50 | TRAINING Loss: 4.7103685949850975 | TESTING Loss: 535.7188575382398\n"
     ]
    }
   ],
   "source": [
    "training_losses, testing_losses = train(X, Y, X_test, Y_test, model_sections, optimizing_params)"
   ]
  },
  {
   "cell_type": "code",
   "execution_count": 40,
   "metadata": {},
   "outputs": [
    {
     "data": {
      "image/png": "[encoded data removed]",
      "text/plain": [
       "<matplotlib.figure.Figure at 0x47e727780>"
      ]
     },
     "metadata": {},
     "output_type": "display_data"
    }
   ],
   "source": [
    "showPlot(training_losses, testing_losses)"
   ]
  },
  {
   "cell_type": "code",
   "execution_count": null,
   "metadata": {},
   "outputs": [],
   "source": []
  },
  {
   "cell_type": "code",
   "execution_count": null,
   "metadata": {},
   "outputs": [],
   "source": []
  }
 ],
 "metadata": {
  "kernelspec": {
   "display_name": "Python 3",
   "language": "python",
   "name": "python3"
  },
  "language_info": {
   "codemirror_mode": {
    "name": "ipython",
    "version": 3
   },
   "file_extension": ".py",
   "mimetype": "text/x-python",
   "name": "python",
   "nbconvert_exporter": "python",
   "pygments_lexer": "ipython3",
   "version": "3.6.4"
  }
 },
 "nbformat": 4,
 "nbformat_minor": 2
}
