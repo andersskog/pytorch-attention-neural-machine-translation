{
 "cells": [
  {
   "cell_type": "code",
   "execution_count": 1,
   "metadata": {},
   "outputs": [],
   "source": [
    "import numpy as np\n",
    "import torch\n",
    "import torch.nn as nn\n",
    "from torch.autograd import Variable\n",
    "from torch import optim\n",
    "import torch.nn.functional as F\n",
    "import matplotlib.pyplot as plt\n",
    "import time"
   ]
  },
  {
   "cell_type": "code",
   "execution_count": 2,
   "metadata": {},
   "outputs": [],
   "source": [
    "# Define global params for training\n",
    "LEARNING_RATE = 0.01\n",
    "EPOCHS = 50\n",
    "EMBEDDING_SIZE = 50\n",
    "DEBUG_LENGTH = 100\n",
    "HIDDEN_SIZE = 1000\n",
    "UNIQUE_WORDS = 2000\n",
    "\n",
    "# Set this to true if testing\n",
    "DEBUG = False\n",
    "\n",
    "# Detect if Cuda should be used\n",
    "use_cuda = torch.cuda.is_available()"
   ]
  },
  {
   "cell_type": "code",
   "execution_count": 3,
   "metadata": {},
   "outputs": [],
   "source": [
    "SOS_token = 1\n",
    "EOS_token = 2"
   ]
  },
  {
   "cell_type": "code",
   "execution_count": 4,
   "metadata": {},
   "outputs": [],
   "source": [
    "def showPlot(points, points2):\n",
    "    plt.plot(points)\n",
    "    plt.plot(points2)\n",
    "    plt.show()"
   ]
  },
  {
   "cell_type": "markdown",
   "metadata": {},
   "source": [
    "# Load dataset"
   ]
  },
  {
   "cell_type": "code",
   "execution_count": 5,
   "metadata": {},
   "outputs": [],
   "source": [
    "def load_dataset(language):\n",
    "    with open('data/train.{}.txt'.format(language), 'r') as data:\n",
    "        sentences = [sentence.rstrip('\\n').split(' ') for sentence in data]\n",
    "    return sentences\n",
    "\n",
    "en_sentences = load_dataset('en')\n",
    "vi_sentences = load_dataset('vi')"
   ]
  },
  {
   "cell_type": "code",
   "execution_count": 6,
   "metadata": {},
   "outputs": [],
   "source": [
    "def create_vocab(sentences):\n",
    "    language_dict = dict()\n",
    "    for sentence in sentences:\n",
    "        for word in sentence:\n",
    "            if word in language_dict:\n",
    "                language_dict[word] += 1\n",
    "            else:\n",
    "                language_dict[word] = 1\n",
    "    word_frequency = [(word, language_dict[word]) for word in language_dict]\n",
    "    sorted_word_frequency = sorted(word_frequency, key=lambda x: x[1], reverse=True)\n",
    "    if len(sorted_word_frequency) > UNIQUE_WORDS - 3:\n",
    "        sorted_word_frequency = sorted_word_frequency[:UNIQUE_WORDS - 3]\n",
    "    new_dict = {'<unk>': 0, '<s>': 1, '</s>': 2}\n",
    "    counter = 3\n",
    "    for word_tuple in sorted_word_frequency:\n",
    "        if word_tuple[0] not in new_dict:\n",
    "            new_dict[word_tuple[0]] = counter\n",
    "            counter += 1\n",
    "    return new_dict\n",
    "\n",
    "en_vocab = create_vocab(en_sentences)\n",
    "vi_vocab = create_vocab(vi_sentences)"
   ]
  },
  {
   "cell_type": "code",
   "execution_count": 7,
   "metadata": {},
   "outputs": [],
   "source": [
    "def load_test_sets(in_language, out_language):\n",
    "    with open('data/test.{}.txt'.format(in_language), 'r') as data:\n",
    "        in_sentences = [sentence.rstrip('\\n').split(' ') for sentence in data]\n",
    "    with open('data/test.{}.txt'.format(out_language), 'r') as data:\n",
    "        out_sentences = [sentence.rstrip('\\n').split(' ') for sentence in data]\n",
    "    return in_sentences, out_sentences\n",
    "\n",
    "en_test_sentences, vi_test_sentences = load_test_sets('en', 'vi')"
   ]
  },
  {
   "cell_type": "markdown",
   "metadata": {},
   "source": [
    "# Process dataset"
   ]
  },
  {
   "cell_type": "code",
   "execution_count": 8,
   "metadata": {},
   "outputs": [],
   "source": [
    "def word_from_dict(word, lan_dict):\n",
    "    if word in lan_dict:\n",
    "        return lan_dict[word]\n",
    "    else:\n",
    "        return lan_dict['<unk>']\n",
    "\n",
    "def process_sentences(sentences, vocab, translate_to=False):\n",
    "    X = list()\n",
    "    for index, sentence in enumerate(sentences):\n",
    "        if translate_to:\n",
    "            index_sentence = [SOS_token] + [word_from_dict(word, vocab) for word in sentence] + [EOS_token]\n",
    "        else:\n",
    "            index_sentence = [word_from_dict(word, vocab) for word in sentence] + [EOS_token]\n",
    "        X.append(index_sentence)\n",
    "    X = np.array([np.array(Xi) for Xi in X])\n",
    "    return X"
   ]
  },
  {
   "cell_type": "code",
   "execution_count": 9,
   "metadata": {},
   "outputs": [],
   "source": [
    "X = process_sentences(en_sentences, en_vocab)"
   ]
  },
  {
   "cell_type": "code",
   "execution_count": 10,
   "metadata": {},
   "outputs": [],
   "source": [
    "Y = process_sentences(vi_sentences, vi_vocab, translate_to=True)"
   ]
  },
  {
   "cell_type": "code",
   "execution_count": 11,
   "metadata": {},
   "outputs": [],
   "source": [
    "X_test = process_sentences(en_test_sentences, en_vocab)"
   ]
  },
  {
   "cell_type": "code",
   "execution_count": 12,
   "metadata": {},
   "outputs": [],
   "source": [
    "Y_test = process_sentences(vi_test_sentences, vi_vocab, translate_to=True)"
   ]
  },
  {
   "cell_type": "markdown",
   "metadata": {},
   "source": [
    "# Build model"
   ]
  },
  {
   "cell_type": "code",
   "execution_count": 13,
   "metadata": {},
   "outputs": [],
   "source": [
    "class EncoderRNN(nn.Module):\n",
    "    def __init__(self, input_size, hidden_size):\n",
    "        super(EncoderRNN, self).__init__()\n",
    "        self.hidden_size = hidden_size\n",
    "        self.embedding = nn.Embedding(input_size, EMBEDDING_SIZE)\n",
    "        self.gru = nn.GRU(EMBEDDING_SIZE, hidden_size, bidirectional=True, batch_first=True)\n",
    "\n",
    "    def forward(self, input, hidden):\n",
    "        embedded = self.embedding(input)\n",
    "        output = embedded\n",
    "        output, hidden = self.gru(output, hidden)\n",
    "        return output, hidden\n",
    "\n",
    "    def initHidden(self):\n",
    "        result = Variable(torch.zeros(2, 1, self.hidden_size))\n",
    "        if use_cuda:\n",
    "            return result.cuda()\n",
    "        else:\n",
    "            return result"
   ]
  },
  {
   "cell_type": "code",
   "execution_count": 14,
   "metadata": {},
   "outputs": [],
   "source": [
    "class Attention(nn.Module):\n",
    "    def __init__(self, hidden_size):\n",
    "        super(Attention, self).__init__()\n",
    "        self.hidden_size = hidden_size\n",
    "        self.attn = nn.Linear(self.hidden_size * 3, 1)\n",
    "\n",
    "    def forward(self, decoder_hidden, encoder_output):\n",
    "        decoder_hidden_expanded = decoder_hidden.expand(1, encoder_output.size()[1], decoder_hidden.size()[2])\n",
    "        input_vector = torch.cat((decoder_hidden_expanded, encoder_output), 2)\n",
    "        output = torch.matmul(input_vector, self.attn.weight.t())\n",
    "        attn_weights = F.softmax(output, dim=1)\n",
    "        permuted_encoder_output = encoder_output.permute(0, 2, 1)\n",
    "        input_context = torch.bmm(permuted_encoder_output, attn_weights).view(1,1,-1)\n",
    "        return input_context"
   ]
  },
  {
   "cell_type": "code",
   "execution_count": 15,
   "metadata": {},
   "outputs": [],
   "source": [
    "class DecoderRNN(nn.Module):\n",
    "    def __init__(self, input_size, hidden_size):\n",
    "        super(DecoderRNN, self).__init__()\n",
    "        self.hidden_size = hidden_size\n",
    "        self.embedding = nn.Embedding(input_size, EMBEDDING_SIZE)\n",
    "        self.gru = nn.GRU(self.hidden_size * 2 + EMBEDDING_SIZE, self.hidden_size, batch_first=True)\n",
    "        self.out = nn.Linear(self.hidden_size, input_size)\n",
    "\n",
    "    def forward(self, input_context, hidden, word):\n",
    "        embedded = self.embedding(word)\n",
    "        output = torch.cat((embedded, input_context), 2)\n",
    "        output, hidden = self.gru(output, hidden)\n",
    "        output = self.out(output)\n",
    "        output = F.log_softmax(output, dim=2)\n",
    "        return output, hidden"
   ]
  },
  {
   "cell_type": "code",
   "execution_count": 16,
   "metadata": {},
   "outputs": [],
   "source": [
    "def train_step(in_sentence, out_sentence, model_sections, optimizing_params):\n",
    "    # pass input sentence through encoder\n",
    "    encoder_hidden = encoder.initHidden()\n",
    "    input = Variable(torch.LongTensor(in_sentence).view(1,-1))\n",
    "    input = input.cuda() if use_cuda else input\n",
    "    encoder_output, encoder_hidden = model_sections['encoder'](input, encoder_hidden)\n",
    "    \n",
    "    # initialize decoder hidden layer with final encoder hidden layer\n",
    "    decoder_hidden = encoder_hidden[0].clone().view(1,1,-1)\n",
    "    \n",
    "    # initialize loss to 0\n",
    "    loss = 0 \n",
    "    \n",
    "    # pass encoder output through attention + decoder\n",
    "    for word_index in out_sentence:\n",
    "        decoder_input = Variable(torch.LongTensor([[int(word_index)]]))\n",
    "        decoder_input = decoder_input.cuda() if use_cuda else decoder_input\n",
    "        input_context = model_sections['attention'](decoder_hidden, encoder_output) \n",
    "        decoder_output, decoder_hidden = model_sections['decoder'](input_context, decoder_hidden, decoder_input)\n",
    "        loss += optimizing_params['loss_function'](decoder_output.view(1,-1), decoder_input.view(-1))\n",
    "    loss.backward()\n",
    "    optimizing_params['enc_optimizer'].step()\n",
    "    optimizing_params['att_optimizer'].step()\n",
    "    optimizing_params['dec_optimizer'].step()\n",
    "    \n",
    "    return loss.data[0] / len(out_sentence)"
   ]
  },
  {
   "cell_type": "code",
   "execution_count": 17,
   "metadata": {},
   "outputs": [],
   "source": [
    "def test_step(in_sentence, out_sentence, model_sections, optimizing_params):\n",
    "    # pass input sentence through encoder\n",
    "    encoder_hidden = encoder.initHidden()\n",
    "    input = Variable(torch.LongTensor(in_sentence).view(1,-1))\n",
    "    input = input.cuda() if use_cuda else input\n",
    "    encoder_output, encoder_hidden = model_sections['encoder'](input, encoder_hidden)\n",
    "    \n",
    "    # initialize decoder hidden layer with final encoder hidden layer\n",
    "    decoder_hidden = encoder_hidden[0].clone().view(1,1,-1)\n",
    "    \n",
    "    # initialize loss to 0\n",
    "    loss = 0 \n",
    "    \n",
    "    # pass encoder output through attention + decoder\n",
    "    for word_index in out_sentence:\n",
    "        decoder_input = Variable(torch.LongTensor([[int(word_index)]]))\n",
    "        decoder_input = decoder_input.cuda() if use_cuda else decoder_input\n",
    "        input_context = model_sections['attention'](decoder_hidden, encoder_output) \n",
    "        decoder_output, decoder_hidden = model_sections['decoder'](input_context, decoder_hidden, decoder_input)\n",
    "        loss += optimizing_params['loss_function'](decoder_output.view(1,-1), decoder_input.view(-1))\n",
    "    return loss.data[0] / len(out_sentence)"
   ]
  },
  {
   "cell_type": "code",
   "execution_count": 18,
   "metadata": {},
   "outputs": [],
   "source": [
    "def train(in_sentences, out_sentences, in_test_sentences, out_test_sentences, model_sections, optimizing_params):\n",
    "    training_losses = list()\n",
    "    testing_losses = list()\n",
    "    current_loss = 0\n",
    "    testing_loss = 0\n",
    "    for epoch_num in range(EPOCHS):\n",
    "        model_sections['encoder'].zero_grad()\n",
    "        model_sections['decoder'].zero_grad()\n",
    "        model_sections['attention'].zero_grad()\n",
    "        timestamp1 = time.time()\n",
    "        timestamp3 = time.time()\n",
    "        if DEBUG:\n",
    "            train_set_length = DEBUG_LENGTH\n",
    "            test_set_length = int(DEBUG_LENGTH / 10)\n",
    "        else:\n",
    "            train_set_length = len(in_sentences)\n",
    "            test_set_length = len(in_test_sentences)\n",
    "        for index, (in_sentence, out_sentence) in enumerate(zip(in_sentences[:train_set_length], out_sentences[:train_set_length])):\n",
    "            current_loss += train_step(in_sentence, out_sentence, model_sections, optimizing_params)\n",
    "            if index % 100 == 0:\n",
    "                timestamp4 = time.time()\n",
    "                print('Epoch: {} | STEP: {} | TRAINING Loss: {} | Time: {}'.format(epoch_num + 1, index, current_loss / train_set_length, timestamp4 - timestamp3))\n",
    "                timestamp3 = time.time()\n",
    "        for in_test_sentence, out_test_sentence in zip(in_test_sentences[:test_set_length], out_test_sentences[:test_set_length]):\n",
    "            testing_loss += test_step(in_test_sentence, out_test_sentence, model_sections, optimizing_params)\n",
    "        timestamp2 = time.time()\n",
    "        print('\\n\\nEpoch: {} | TRAINING Loss: {} | TESTING Loss: {} | Time: {}\\n\\n'.format(epoch_num + 1, current_loss / train_set_length, testing_loss / test_set_length, timestamp2 - timestamp1))\n",
    "        training_losses.append(current_loss / train_set_length)\n",
    "        testing_losses.append(testing_loss  / test_set_length)\n",
    "        current_loss = 0\n",
    "        testing_loss = 0\n",
    "    return training_losses, testing_losses"
   ]
  },
  {
   "cell_type": "code",
   "execution_count": null,
   "metadata": {},
   "outputs": [],
   "source": [
    "# Instantiate model and optimizer\n",
    "encoder = EncoderRNN(len(en_vocab), HIDDEN_SIZE).cuda() if use_cuda else EncoderRNN(len(en_vocab), HIDDEN_SIZE)\n",
    "attention = Attention(HIDDEN_SIZE).cuda() if use_cuda else Attention(HIDDEN_SIZE)\n",
    "decoder = DecoderRNN(len(vi_vocab), HIDDEN_SIZE).cuda() if use_cuda else DecoderRNN(len(vi_vocab), HIDDEN_SIZE)\n",
    "criterion = nn.NLLLoss()\n",
    "encoder_optimizer = optim.SGD(encoder.parameters(), lr=LEARNING_RATE)\n",
    "attention_optimizer = optim.SGD(attention.parameters(), lr=LEARNING_RATE)\n",
    "decoder_optimizer = optim.SGD(decoder.parameters(), lr=LEARNING_RATE)\n",
    "\n",
    "# save model and optimizer params to dict\n",
    "model_sections = {'encoder': encoder, \n",
    "                  'attention': attention, \n",
    "                  'decoder': decoder,\n",
    "                 }\n",
    "\n",
    "optimizing_params = {'loss_function': criterion, \n",
    "                     'enc_optimizer': encoder_optimizer,\n",
    "                     'att_optimizer': attention_optimizer,\n",
    "                     'dec_optimizer': decoder_optimizer,\n",
    "                    }"
   ]
  },
  {
   "cell_type": "code",
   "execution_count": null,
   "metadata": {},
   "outputs": [
    {
     "name": "stdout",
     "output_type": "stream",
     "text": [
      "Epoch: 1 | STEP: 0 | TRAINING Loss: 5.710319989967814e-05 | Time: 1.4042818546295166\n",
      "Epoch: 1 | STEP: 100 | TRAINING Loss: 0.5232472327999497 | Time: 237.59488320350647\n",
      "Epoch: 1 | STEP: 200 | TRAINING Loss: 1.703481842763723 | Time: 286.8476631641388\n",
      "Epoch: 1 | STEP: 300 | TRAINING Loss: 3.030982771174916 | Time: 251.1896402835846\n",
      "Epoch: 1 | STEP: 400 | TRAINING Loss: 4.490883748685246 | Time: 179.48197507858276\n",
      "Epoch: 1 | STEP: 500 | TRAINING Loss: 6.540798801567058 | Time: 224.5261390209198\n",
      "Epoch: 1 | STEP: 600 | TRAINING Loss: 8.456317784380843 | Time: 226.6234769821167\n",
      "Epoch: 1 | STEP: 700 | TRAINING Loss: 10.186764934916045 | Time: 247.6599884033203\n",
      "Epoch: 1 | STEP: 800 | TRAINING Loss: 12.084955678216561 | Time: 192.2908113002777\n",
      "Epoch: 1 | STEP: 900 | TRAINING Loss: 13.970463218710172 | Time: 214.29329109191895\n",
      "Epoch: 1 | STEP: 1000 | TRAINING Loss: 15.769094884427682 | Time: 338.6878409385681\n",
      "Epoch: 1 | STEP: 1100 | TRAINING Loss: 17.78690137534732 | Time: 251.2654688358307\n",
      "Epoch: 1 | STEP: 1200 | TRAINING Loss: 20.50975433782191 | Time: 240.2891809940338\n",
      "Epoch: 1 | STEP: 1300 | TRAINING Loss: 22.825469944552708 | Time: 263.05068802833557\n",
      "Epoch: 1 | STEP: 1400 | TRAINING Loss: 25.075664683700513 | Time: 267.0343632698059\n",
      "Epoch: 1 | STEP: 1500 | TRAINING Loss: 28.071468870227232 | Time: 379.34643721580505\n",
      "Epoch: 1 | STEP: 1600 | TRAINING Loss: 30.81744954123552 | Time: 421.66453289985657\n",
      "Epoch: 1 | STEP: 1700 | TRAINING Loss: 33.80821392196024 | Time: 370.66162300109863\n",
      "Epoch: 1 | STEP: 1800 | TRAINING Loss: 36.3168322862968 | Time: 382.2037789821625\n",
      "Epoch: 1 | STEP: 1900 | TRAINING Loss: 38.78116137304771 | Time: 355.49710512161255\n",
      "Epoch: 1 | STEP: 2000 | TRAINING Loss: 41.27563998591755 | Time: 383.2850649356842\n",
      "Epoch: 1 | STEP: 2100 | TRAINING Loss: 44.19884138530817 | Time: 365.99960494041443\n",
      "Epoch: 1 | STEP: 2200 | TRAINING Loss: 47.18837690906928 | Time: 252.11812496185303\n"
     ]
    }
   ],
   "source": [
    "training_losses, testing_losses = train(X, Y, X_test, Y_test, model_sections, optimizing_params)"
   ]
  },
  {
   "cell_type": "code",
   "execution_count": null,
   "metadata": {},
   "outputs": [],
   "source": [
    "showPlot(training_losses, testing_losses)"
   ]
  },
  {
   "cell_type": "code",
   "execution_count": null,
   "metadata": {},
   "outputs": [],
   "source": []
  },
  {
   "cell_type": "code",
   "execution_count": null,
   "metadata": {},
   "outputs": [],
   "source": []
  }
 ],
 "metadata": {
  "kernelspec": {
   "display_name": "Python 3",
   "language": "python",
   "name": "python3"
  },
  "language_info": {
   "codemirror_mode": {
    "name": "ipython",
    "version": 3
   },
   "file_extension": ".py",
   "mimetype": "text/x-python",
   "name": "python",
   "nbconvert_exporter": "python",
   "pygments_lexer": "ipython3",
   "version": "3.6.4"
  }
 },
 "nbformat": 4,
 "nbformat_minor": 2
}
